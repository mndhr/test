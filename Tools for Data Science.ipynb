{
    "cells": [
        {
            "cell_type": "markdown",
            "metadata": {
                "collapsed": true
            },
            "source": "# My Jupyter Notebook on IBM Watson Studio"
        },
        {
            "cell_type": "markdown",
            "metadata": {},
            "source": "This is..\n\n***Mundhir AbdulRahman.***\n\nI am a telecom (transmission planning) engineer from Yemen"
        },
        {
            "cell_type": "markdown",
            "metadata": {},
            "source": "<i>I am looking for a career shift into data science. This is a great and fascinating field that I have passion for.</i>"
        },
        {
            "cell_type": "markdown",
            "metadata": {},
            "source": "### The code below outputs \"Hello World!\" in a number of rows equal to the number of letters in the string in an increasing order of number of letters"
        },
        {
            "cell_type": "code",
            "execution_count": 19,
            "metadata": {},
            "outputs": [
                {
                    "name": "stdout",
                    "output_type": "stream",
                    "text": "\nH\nHe\nHel\nHell\nHello\nHello \nHello W\nHello Wo\nHello Wor\nHello Worl\nHello World\nHello World!\n"
                }
            ],
            "source": "i = 0\ns = 'Hello World!'\n\nwhile i <= len(s):\n    print(s[0:i])\n    i += 1"
        },
        {
            "cell_type": "markdown",
            "metadata": {},
            "source": "\nI am taking courses in:\n\n<ul>\n    <li>Data Analysis</li>\n    <li>Data Science</li>\n    <li>Machine Learing</li>\n    <li>Artificial Intelligence</li>\n</ul>\n\n***\n\nPlease feel free to connect with in LinkedIn at: <a href = \"https://www.linkedin.com/in/mndhr/\">Mundhir AbdulRahman</a>\n\n\n*Finally, qoute that I like..*\n> If you want to swallow a frog, don't look at it too much"
        },
        {
            "cell_type": "code",
            "execution_count": null,
            "metadata": {},
            "outputs": [],
            "source": ""
        }
    ],
    "metadata": {
        "kernelspec": {
            "display_name": "Python 3.7 with Spark",
            "language": "python3",
            "name": "python37"
        },
        "language_info": {
            "codemirror_mode": {
                "name": "ipython",
                "version": 3
            },
            "file_extension": ".py",
            "mimetype": "text/x-python",
            "name": "python",
            "nbconvert_exporter": "python",
            "pygments_lexer": "ipython3",
            "version": "3.7.10"
        }
    },
    "nbformat": 4,
    "nbformat_minor": 1
}